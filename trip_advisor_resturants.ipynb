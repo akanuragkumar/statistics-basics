{
 "cells": [
  {
   "cell_type": "markdown",
   "metadata": {},
   "source": [
    "## Explore restaurants data"
   ]
  },
  { 
   "cell_type": "markdown",
   "metadata": {},
   "source": [
    "### This notebook shows on the nuisances of data processing"
   ]
  },
  {
   "cell_type": "code",
   "execution_count": 11,
   "metadata": {
    "collapsed": true
   },
   "outputs": [],
   "source": [
    "import numpy as np\n",
    "import pandas as pd\n",
    "import matplotlib\n",
    "import matplotlib.pyplot as plt\n",
    "%matplotlib inline"
   ]
  },
  {
   "cell_type": "code",
   "execution_count": 12,
   "metadata": {},
   "outputs": [
    {
     "name": "stdout",
     "output_type": "stream",
     "text": [
      "  18802  316159 6912444 data/restaurants/tripadvisor_in-restaurant_sample.csv\r\n"
     ]
    }
   ],
   "source": [
    "# Check if the counts in the input file and data frame are matching\n",
    "!wc data/restaurants/tripadvisor_in-restaurant_sample.csv"
   ]
  },
  {
   "cell_type": "code",
   "execution_count": 13,
   "metadata": {},
   "outputs": [
    {
     "data": {
      "text/plain": [
       "<function pandas.io.clipboard.clipboard.read_clipboard>"
      ]
     },
     "execution_count": 13,
     "metadata": {},
     "output_type": "execute_result"
    }
   ],
   "source": [
    "pd.read_clipboard"
   ]
  },
  {
   "cell_type": "code",
   "execution_count": 14,
   "metadata": {
    "collapsed": true
   },
   "outputs": [],
   "source": [
    "df = pd.read_csv(\"data/restaurants/restaurants-on-tripadvisor.zip\",compression='zip',encoding='utf-8')"
   ]
  },
  {
   "cell_type": "code",
   "execution_count": 15,
   "metadata": {},
   "outputs": [
    {
     "data": {
      "text/plain": [
       "18000"
      ]
     },
     "execution_count": 15,
     "metadata": {},
     "output_type": "execute_result"
    }
   ],
   "source": [
    "len(df)"
   ]
  },
  {
   "cell_type": "code",
   "execution_count": 16,
   "metadata": {},
   "outputs": [
    {
     "data": {
      "text/plain": [
       "Restaurant ID          object\n",
       "Restaurant URL         object\n",
       "Name                   object\n",
       "Address                object\n",
       "Phone                  object\n",
       "City                   object\n",
       "State                  object\n",
       "Country                object\n",
       "Neighbourhood          object\n",
       "Email ID               object\n",
       "Menu                  float64\n",
       "Website                object\n",
       "Latitude              float64\n",
       "Longitude             float64\n",
       "About Restaurant       object\n",
       "Cuisine                object\n",
       "Good for(suitable)     object\n",
       "Price                  object\n",
       "Currency               object\n",
       "Rating                 object\n",
       "Ranking                object\n",
       "Deal(Promotion)       float64\n",
       "Total Review          float64\n",
       "Last Reviewed          object\n",
       "Recommended           float64\n",
       "Dining Option          object\n",
       "Award                  object\n",
       "Uniq Id                object\n",
       "dtype: object"
      ]
     },
     "execution_count": 16,
     "metadata": {},
     "output_type": "execute_result"
    }
   ],
   "source": [
    "# Check the data types of the columns\n",
    "df.dtypes"
   ]
  },
  {
   "cell_type": "code",
   "execution_count": 17,
   "metadata": {},
   "outputs": [
    {
     "data": {
      "text/plain": [
       "Uniq Id               100\n",
       "Restaurant ID         100\n",
       "Country                99\n",
       "Restaurant URL         99\n",
       "Name                   99\n",
       "Address                99\n",
       "State                  99\n",
       "Latitude               96\n",
       "Longitude              96\n",
       "City                   94\n",
       "Phone                  86\n",
       "Total Review           59\n",
       "Last Reviewed          58\n",
       "Ranking                56\n",
       "Website                47\n",
       "Cuisine                41\n",
       "Dining Option          12\n",
       "Price                   9\n",
       "Currency                9\n",
       "Good for(suitable)      6\n",
       "About Restaurant        5\n",
       "Email ID                4\n",
       "Neighbourhood           3\n",
       "Award                   3\n",
       "Rating                  0\n",
       "Menu                    0\n",
       "Recommended             0\n",
       "Deal(Promotion)         0\n",
       "dtype: int64"
      ]
     },
     "execution_count": 17,
     "metadata": {},
     "output_type": "execute_result"
    }
   ],
   "source": [
    "# find out what is the percentage of data population in each column\n",
    "df_col = (len(df)-df.isnull().sum())*100/len(df)\n",
    "df_col.astype(int).sort_values(ascending=False)"
   ]
  },
  {
   "cell_type": "code",
   "execution_count": 18,
   "metadata": {},
   "outputs": [
    {
     "ename": "NameError",
     "evalue": "name 'df_isnull' is not defined",
     "output_type": "error",
     "traceback": [
      "\u001b[0;31m---------------------------------------------------------------------------\u001b[0m",
      "\u001b[0;31mNameError\u001b[0m                                 Traceback (most recent call last)",
      "\u001b[0;32m<ipython-input-18-049e8dc09240>\u001b[0m in \u001b[0;36m<module>\u001b[0;34m()\u001b[0m\n\u001b[0;32m----> 1\u001b[0;31m \u001b[0;34m(\u001b[0m\u001b[0mlen\u001b[0m\u001b[0;34m(\u001b[0m\u001b[0mdf_isnull\u001b[0m\u001b[0;34m(\u001b[0m\u001b[0;34m)\u001b[0m\u001b[0;34m.\u001b[0m\u001b[0msum\u001b[0m\u001b[0;34m(\u001b[0m\u001b[0;34m)\u001b[0m\u001b[0;34m)\u001b[0m\u001b[0;34m*\u001b[0m\u001b[0;36m100\u001b[0m\u001b[0;34m/\u001b[0m\u001b[0mlen\u001b[0m\u001b[0;34m(\u001b[0m\u001b[0mdf\u001b[0m\u001b[0;34m)\u001b[0m\u001b[0;34m)\u001b[0m\u001b[0;34m\u001b[0m\u001b[0m\n\u001b[0m",
      "\u001b[0;31mNameError\u001b[0m: name 'df_isnull' is not defined"
     ]
    }
   ],
   "source": [
    "(len(df_isnull().sum())*100/len(df))"
   ]
  },
  {
   "cell_type": "code",
   "execution_count": 19,
   "metadata": {},
   "outputs": [
    {
     "data": {
      "text/html": [
       "<div>\n",
       "<style>\n",
       "    .dataframe thead tr:only-child th {\n",
       "        text-align: right;\n",
       "    }\n",
       "\n",
       "    .dataframe thead th {\n",
       "        text-align: left;\n",
       "    }\n",
       "\n",
       "    .dataframe tbody tr th {\n",
       "        vertical-align: top;\n",
       "    }\n",
       "</style>\n",
       "<table border=\"1\" class=\"dataframe\">\n",
       "  <thead>\n",
       "    <tr style=\"text-align: right;\">\n",
       "      <th></th>\n",
       "      <th>Restaurant ID</th>\n",
       "      <th>Restaurant URL</th>\n",
       "      <th>Name</th>\n",
       "      <th>Address</th>\n",
       "      <th>Phone</th>\n",
       "      <th>City</th>\n",
       "      <th>State</th>\n",
       "      <th>Country</th>\n",
       "      <th>Neighbourhood</th>\n",
       "      <th>Email ID</th>\n",
       "      <th>...</th>\n",
       "      <th>Currency</th>\n",
       "      <th>Rating</th>\n",
       "      <th>Ranking</th>\n",
       "      <th>Deal(Promotion)</th>\n",
       "      <th>Total Review</th>\n",
       "      <th>Last Reviewed</th>\n",
       "      <th>Recommended</th>\n",
       "      <th>Dining Option</th>\n",
       "      <th>Award</th>\n",
       "      <th>Uniq Id</th>\n",
       "    </tr>\n",
       "  </thead>\n",
       "  <tbody>\n",
       "    <tr>\n",
       "      <th>1547</th>\n",
       "      <td>4\\r159832</td>\n",
       "      <td>http://www.tripadvisor.in/Restaurant_Review-g6...</td>\n",
       "      <td>Europe</td>\n",
       "      <td>NaN</td>\n",
       "      <td>NaN</td>\n",
       "      <td>NaN</td>\n",
       "      <td>NaN</td>\n",
       "      <td>NaN</td>\n",
       "      <td>NaN</td>\n",
       "      <td>NaN</td>\n",
       "      <td>...</td>\n",
       "      <td>NaN</td>\n",
       "      <td>NaN</td>\n",
       "      <td>NaN</td>\n",
       "      <td>NaN</td>\n",
       "      <td>NaN</td>\n",
       "      <td>NaN</td>\n",
       "      <td>NaN</td>\n",
       "      <td>NaN</td>\n",
       "      <td>NaN</td>\n",
       "      <td>bfc127bb137c9aa4628c0659e0dce2d5</td>\n",
       "    </tr>\n",
       "  </tbody>\n",
       "</table>\n",
       "<p>1 rows × 28 columns</p>\n",
       "</div>"
      ],
      "text/plain": [
       "     Restaurant ID                                     Restaurant URL    Name  \\\n",
       "1547     4\\r159832  http://www.tripadvisor.in/Restaurant_Review-g6...  Europe   \n",
       "\n",
       "     Address Phone City State Country Neighbourhood Email ID  \\\n",
       "1547     NaN   NaN  NaN   NaN     NaN           NaN      NaN   \n",
       "\n",
       "                    ...                 Currency Rating  Ranking  \\\n",
       "1547                ...                      NaN    NaN      NaN   \n",
       "\n",
       "      Deal(Promotion) Total Review Last Reviewed Recommended Dining Option  \\\n",
       "1547              NaN          NaN           NaN         NaN           NaN   \n",
       "\n",
       "     Award                           Uniq Id  \n",
       "1547   NaN  bfc127bb137c9aa4628c0659e0dce2d5  \n",
       "\n",
       "[1 rows x 28 columns]"
      ]
     },
     "execution_count": 19,
     "metadata": {},
     "output_type": "execute_result"
    }
   ],
   "source": [
    "df[df[\"Uniq Id\"] == \"bfc127bb137c9aa4628c0659e0dce2d5\"]"
   ]
  },
  {
   "cell_type": "code",
   "execution_count": 20,
   "metadata": {
    "collapsed": true
   },
   "outputs": [],
   "source": [
    "# select sub set of columns that can be checked for null and remove any such records\n",
    "major_columns = ['Restaurant ID','Restaurant URL','Name','Uniq Id']\n",
    "col_na = [col_name for col_name in list(df.columns) if col_name not in major_columns]"
   ]
  },
  {
   "cell_type": "code",
   "execution_count": 21,
   "metadata": {},
   "outputs": [
    {
     "name": "stdout",
     "output_type": "stream",
     "text": [
      "['Address', 'Phone', 'City', 'State', 'Country', 'Neighbourhood', 'Email ID', 'Menu', 'Website', 'Latitude', 'Longitude', 'About Restaurant', 'Cuisine', 'Good for(suitable)', 'Price', 'Currency', 'Rating', 'Ranking', 'Deal(Promotion)', 'Total Review', 'Last Reviewed', 'Recommended', 'Dining Option', 'Award']\n"
     ]
    }
   ],
   "source": [
    "print(col_na)"
   ]
  },
  {
   "cell_type": "code",
   "execution_count": 22,
   "metadata": {
    "collapsed": true
   },
   "outputs": [],
   "source": [
    "# drop all of the rows where subset of columns are completely null\n",
    "df1 = df.dropna(axis=0,subset=col_na,how='all')"
   ]
  },
  {
   "cell_type": "code",
   "execution_count": 23,
   "metadata": {},
   "outputs": [
    {
     "data": {
      "text/plain": [
       "17996"
      ]
     },
     "execution_count": 23,
     "metadata": {},
     "output_type": "execute_result"
    }
   ],
   "source": [
    "len(df1)"
   ]
  },
  {
   "cell_type": "code",
   "execution_count": 24,
   "metadata": {},
   "outputs": [
    {
     "data": {
      "text/plain": [
       "28"
      ]
     },
     "execution_count": 24,
     "metadata": {},
     "output_type": "execute_result"
    }
   ],
   "source": [
    "len(df1.columns)"
   ]
  },
  {
   "cell_type": "code",
   "execution_count": 25,
   "metadata": {
    "collapsed": true
   },
   "outputs": [],
   "source": [
    "# drop those columns that are completely null\n",
    "df2 = df1.dropna(axis=1,how='all').copy()"
   ]
  },
  {
   "cell_type": "code",
   "execution_count": 26,
   "metadata": {},
   "outputs": [
    {
     "data": {
      "text/plain": [
       "17996"
      ]
     },
     "execution_count": 26,
     "metadata": {},
     "output_type": "execute_result"
    }
   ],
   "source": [
    "len(df2)"
   ]
  },
  {
   "cell_type": "code",
   "execution_count": 27,
   "metadata": {},
   "outputs": [
    {
     "name": "stdout",
     "output_type": "stream",
     "text": [
      "<class 'pandas.core.frame.DataFrame'>\n",
      "Int64Index: 17996 entries, 0 to 17999\n",
      "Data columns (total 25 columns):\n",
      "Restaurant ID         17996 non-null object\n",
      "Restaurant URL        17990 non-null object\n",
      "Name                  17990 non-null object\n",
      "Address               17978 non-null object\n",
      "Phone                 15566 non-null object\n",
      "City                  17004 non-null object\n",
      "State                 17993 non-null object\n",
      "Country               17996 non-null object\n",
      "Neighbourhood         650 non-null object\n",
      "Email ID              858 non-null object\n",
      "Website               8576 non-null object\n",
      "Latitude              17442 non-null float64\n",
      "Longitude             17442 non-null float64\n",
      "About Restaurant      937 non-null object\n",
      "Cuisine               7553 non-null object\n",
      "Good for(suitable)    1199 non-null object\n",
      "Price                 1704 non-null object\n",
      "Currency              1701 non-null object\n",
      "Rating                8 non-null object\n",
      "Ranking               10133 non-null object\n",
      "Total Review          10661 non-null float64\n",
      "Last Reviewed         10494 non-null object\n",
      "Dining Option         2199 non-null object\n",
      "Award                 718 non-null object\n",
      "Uniq Id               17996 non-null object\n",
      "dtypes: float64(3), object(22)\n",
      "memory usage: 3.6+ MB\n"
     ]
    }
   ],
   "source": [
    "df2.info()"
   ]
  },
  {
   "cell_type": "code",
   "execution_count": 28,
   "metadata": {},
   "outputs": [
    {
     "data": {
      "text/plain": [
       "1.0      2469\n",
       "2.0      1287\n",
       "3.0       867\n",
       "4.0       558\n",
       "5.0       462\n",
       "6.0       378\n",
       "7.0       316\n",
       "8.0       269\n",
       "9.0       247\n",
       "10.0      216\n",
       "11.0      201\n",
       "12.0      180\n",
       "13.0      143\n",
       "15.0      142\n",
       "14.0      130\n",
       "16.0      129\n",
       "17.0      125\n",
       "18.0      100\n",
       "19.0       98\n",
       "20.0       90\n",
       "22.0       83\n",
       "23.0       76\n",
       "21.0       73\n",
       "24.0       72\n",
       "25.0       70\n",
       "26.0       65\n",
       "28.0       56\n",
       "32.0       56\n",
       "30.0       53\n",
       "33.0       49\n",
       "         ... \n",
       "405.0       1\n",
       "367.0       1\n",
       "613.0       1\n",
       "502.0       1\n",
       "381.0       1\n",
       "436.0       1\n",
       "327.0       1\n",
       "324.0       1\n",
       "345.0       1\n",
       "369.0       1\n",
       "535.0       1\n",
       "549.0       1\n",
       "137.0       1\n",
       "391.0       1\n",
       "203.0       1\n",
       "285.0       1\n",
       "380.0       1\n",
       "210.0       1\n",
       "817.0       1\n",
       "224.0       1\n",
       "320.0       1\n",
       "272.0       1\n",
       "153.0       1\n",
       "238.0       1\n",
       "901.0       1\n",
       "314.0       1\n",
       "455.0       1\n",
       "378.0       1\n",
       "195.0       1\n",
       "263.0       1\n",
       "Name: Total Review, Length: 327, dtype: int64"
      ]
     },
     "execution_count": 28,
     "metadata": {},
     "output_type": "execute_result"
    }
   ],
   "source": [
    "df2['Total Review'].value_counts()"
   ]
  },
  {
   "cell_type": "code",
   "execution_count": 29,
   "metadata": {},
   "outputs": [
    {
     "data": {
      "text/plain": [
       "327"
      ]
     },
     "execution_count": 29,
     "metadata": {},
     "output_type": "execute_result"
    }
   ],
   "source": [
    "len(df2['Total Review'].value_counts())"
   ]
  },
  {
   "cell_type": "code",
   "execution_count": 30,
   "metadata": {},
   "outputs": [
    {
     "data": {
      "text/plain": [
       "8490"
      ]
     },
     "execution_count": 30,
     "metadata": {},
     "output_type": "execute_result"
    }
   ],
   "source": [
    "df2['Total Review'].value_counts().iloc[0:21].sum()"
   ]
  },
  {
   "cell_type": "code",
   "execution_count": 31,
   "metadata": {},
   "outputs": [
    {
     "data": {
      "text/plain": [
       "1.0      2469\n",
       "2.0      1287\n",
       "3.0       867\n",
       "4.0       558\n",
       "5.0       462\n",
       "6.0       378\n",
       "7.0       316\n",
       "8.0       269\n",
       "9.0       247\n",
       "10.0      216\n",
       "11.0      201\n",
       "12.0      180\n",
       "13.0      143\n",
       "15.0      142\n",
       "14.0      130\n",
       "16.0      129\n",
       "17.0      125\n",
       "18.0      100\n",
       "19.0       98\n",
       "20.0       90\n",
       "22.0       83\n",
       "23.0       76\n",
       "21.0       73\n",
       "24.0       72\n",
       "25.0       70\n",
       "26.0       65\n",
       "28.0       56\n",
       "32.0       56\n",
       "30.0       53\n",
       "33.0       49\n",
       "         ... \n",
       "405.0       1\n",
       "367.0       1\n",
       "613.0       1\n",
       "502.0       1\n",
       "381.0       1\n",
       "436.0       1\n",
       "327.0       1\n",
       "324.0       1\n",
       "345.0       1\n",
       "369.0       1\n",
       "535.0       1\n",
       "549.0       1\n",
       "137.0       1\n",
       "391.0       1\n",
       "203.0       1\n",
       "285.0       1\n",
       "380.0       1\n",
       "210.0       1\n",
       "817.0       1\n",
       "224.0       1\n",
       "320.0       1\n",
       "272.0       1\n",
       "153.0       1\n",
       "238.0       1\n",
       "901.0       1\n",
       "314.0       1\n",
       "455.0       1\n",
       "378.0       1\n",
       "195.0       1\n",
       "263.0       1\n",
       "Name: Total Review, Length: 327, dtype: int64"
      ]
     },
     "execution_count": 31,
     "metadata": {},
     "output_type": "execute_result"
    }
   ],
   "source": [
    "df2['Total Review'].value_counts()"
   ]
  },
  {
   "cell_type": "code",
   "execution_count": 32,
   "metadata": {},
   "outputs": [
    {
     "data": {
      "text/plain": [
       "1.0     2469\n",
       "2.0     1287\n",
       "3.0      867\n",
       "4.0      558\n",
       "5.0      462\n",
       "6.0      378\n",
       "7.0      316\n",
       "8.0      269\n",
       "9.0      247\n",
       "10.0     216\n",
       "11.0     201\n",
       "12.0     180\n",
       "13.0     143\n",
       "15.0     142\n",
       "14.0     130\n",
       "16.0     129\n",
       "17.0     125\n",
       "18.0     100\n",
       "19.0      98\n",
       "20.0      90\n",
       "22.0      83\n",
       "Name: Total Review, dtype: int64"
      ]
     },
     "execution_count": 32,
     "metadata": {},
     "output_type": "execute_result"
    }
   ],
   "source": [
    "df2['Total Review'].value_counts().iloc[0:21]\n"
   ]
  },
  {
   "cell_type": "code",
   "execution_count": 33,
   "metadata": {},
   "outputs": [
    {
     "data": {
      "text/plain": [
       "<matplotlib.axes._subplots.AxesSubplot at 0x7ff08c2fdf60>"
      ]
     },
     "execution_count": 33,
     "metadata": {},
     "output_type": "execute_result"
    },
    {
     "data": {
      "image/png": "[encoded data removed]",
      "text/plain": [
       "<matplotlib.figure.Figure at 0x7ff08dd278d0>"
      ]
     },
     "metadata": {},
     "output_type": "display_data"
    }
   ],
   "source": [
    "# Top 20 reviews\n",
    "df2['Total Review'].value_counts().iloc[0:21].plot(kind='bar',figsize=(14,6))"
   ]
  },
  {
   "cell_type": "code",
   "execution_count": 34,
   "metadata": {
    "collapsed": true
   },
   "outputs": [],
   "source": [
    "# incase if you want to consider the columns having data populated > 60%\n",
    "cols = [col for col in list(df.columns) if col not in list(df_col[df_col > 60].index)]"
   ]
  },
  {
   "cell_type": "code",
   "execution_count": 35,
   "metadata": {},
   "outputs": [
    {
     "data": {
      "text/plain": [
       "['Neighbourhood',\n",
       " 'Email ID',\n",
       " 'Menu',\n",
       " 'Website',\n",
       " 'About Restaurant',\n",
       " 'Cuisine',\n",
       " 'Good for(suitable)',\n",
       " 'Price',\n",
       " 'Currency',\n",
       " 'Rating',\n",
       " 'Ranking',\n",
       " 'Deal(Promotion)',\n",
       " 'Total Review',\n",
       " 'Last Reviewed',\n",
       " 'Recommended',\n",
       " 'Dining Option',\n",
       " 'Award']"
      ]
     },
     "execution_count": 35,
     "metadata": {},
     "output_type": "execute_result"
    }
   ],
   "source": [
    "cols"
   ]
  },
  {
   "cell_type": "code",
   "execution_count": 36,
   "metadata": {
    "collapsed": true
   },
   "outputs": [],
   "source": [
    "df1 = df[cols]"
   ]
  },
  {
   "cell_type": "code",
   "execution_count": 37,
   "metadata": {},
   "outputs": [
    {
     "data": {
      "text/html": [
       "<div>\n",
       "<style>\n",
       "    .dataframe thead tr:only-child th {\n",
       "        text-align: right;\n",
       "    }\n",
       "\n",
       "    .dataframe thead th {\n",
       "        text-align: left;\n",
       "    }\n",
       "\n",
       "    .dataframe tbody tr th {\n",
       "        vertical-align: top;\n",
       "    }\n",
       "</style>\n",
       "<table border=\"1\" class=\"dataframe\">\n",
       "  <thead>\n",
       "    <tr style=\"text-align: right;\">\n",
       "      <th></th>\n",
       "      <th>Restaurant ID</th>\n",
       "      <th>Restaurant URL</th>\n",
       "      <th>Name</th>\n",
       "      <th>Address</th>\n",
       "      <th>Phone</th>\n",
       "      <th>City</th>\n",
       "      <th>State</th>\n",
       "      <th>Country</th>\n",
       "      <th>Neighbourhood</th>\n",
       "      <th>Email ID</th>\n",
       "      <th>...</th>\n",
       "      <th>Currency</th>\n",
       "      <th>Rating</th>\n",
       "      <th>Ranking</th>\n",
       "      <th>Deal(Promotion)</th>\n",
       "      <th>Total Review</th>\n",
       "      <th>Last Reviewed</th>\n",
       "      <th>Recommended</th>\n",
       "      <th>Dining Option</th>\n",
       "      <th>Award</th>\n",
       "      <th>Uniq Id</th>\n",
       "    </tr>\n",
       "  </thead>\n",
       "  <tbody>\n",
       "    <tr>\n",
       "      <th>0</th>\n",
       "      <td>1345154</td>\n",
       "      <td>http://www.tripadvisor.in/Restaurant_Review-g1...</td>\n",
       "      <td>Gaststatte Gunter Jung</td>\n",
       "      <td>Hintergasse 38, 61231 Bad Nauheim, Hesse, Germany</td>\n",
       "      <td>+49 6032 81796</td>\n",
       "      <td>Bad Nauheim</td>\n",
       "      <td>Hesse</td>\n",
       "      <td>Germany</td>\n",
       "      <td>NaN</td>\n",
       "      <td>NaN</td>\n",
       "      <td>...</td>\n",
       "      <td>NaN</td>\n",
       "      <td>NaN</td>\n",
       "      <td>40 of 61</td>\n",
       "      <td>NaN</td>\n",
       "      <td>1.0</td>\n",
       "      <td>- 28 May 2012</td>\n",
       "      <td>NaN</td>\n",
       "      <td>NaN</td>\n",
       "      <td>NaN</td>\n",
       "      <td>030c4d068d2d59518db5de6ebb9ecdd6</td>\n",
       "    </tr>\n",
       "    <tr>\n",
       "      <th>1</th>\n",
       "      <td>5818482</td>\n",
       "      <td>http://www.tripadvisor.in/Restaurant_Review-g1...</td>\n",
       "      <td>TurQuaz Shisha Lounge &amp; Thorizzio da Bambi Lie...</td>\n",
       "      <td>Frankfurter Strasse 49, 63571 Gelnhausen, Hess...</td>\n",
       "      <td>06051 8877462</td>\n",
       "      <td>Gelnhausen</td>\n",
       "      <td>Hesse</td>\n",
       "      <td>Germany</td>\n",
       "      <td>NaN</td>\n",
       "      <td>NaN</td>\n",
       "      <td>...</td>\n",
       "      <td>NaN</td>\n",
       "      <td>NaN</td>\n",
       "      <td>NaN</td>\n",
       "      <td>NaN</td>\n",
       "      <td>NaN</td>\n",
       "      <td>NaN</td>\n",
       "      <td>NaN</td>\n",
       "      <td>NaN</td>\n",
       "      <td>NaN</td>\n",
       "      <td>6e160a28f7d9beeee848a35bd947477c</td>\n",
       "    </tr>\n",
       "  </tbody>\n",
       "</table>\n",
       "<p>2 rows × 28 columns</p>\n",
       "</div>"
      ],
      "text/plain": [
       "  Restaurant ID                                     Restaurant URL  \\\n",
       "0       1345154  http://www.tripadvisor.in/Restaurant_Review-g1...   \n",
       "1       5818482  http://www.tripadvisor.in/Restaurant_Review-g1...   \n",
       "\n",
       "                                                Name  \\\n",
       "0                             Gaststatte Gunter Jung   \n",
       "1  TurQuaz Shisha Lounge & Thorizzio da Bambi Lie...   \n",
       "\n",
       "                                             Address           Phone  \\\n",
       "0  Hintergasse 38, 61231 Bad Nauheim, Hesse, Germany  +49 6032 81796   \n",
       "1  Frankfurter Strasse 49, 63571 Gelnhausen, Hess...   06051 8877462   \n",
       "\n",
       "          City  State  Country Neighbourhood Email ID  \\\n",
       "0  Bad Nauheim  Hesse  Germany           NaN      NaN   \n",
       "1   Gelnhausen  Hesse  Germany           NaN      NaN   \n",
       "\n",
       "                 ...                 Currency Rating   Ranking  \\\n",
       "0                ...                      NaN    NaN  40 of 61   \n",
       "1                ...                      NaN    NaN       NaN   \n",
       "\n",
       "   Deal(Promotion) Total Review  Last Reviewed Recommended Dining Option  \\\n",
       "0              NaN          1.0  - 28 May 2012         NaN           NaN   \n",
       "1              NaN          NaN            NaN         NaN           NaN   \n",
       "\n",
       "  Award                           Uniq Id  \n",
       "0   NaN  030c4d068d2d59518db5de6ebb9ecdd6  \n",
       "1   NaN  6e160a28f7d9beeee848a35bd947477c  \n",
       "\n",
       "[2 rows x 28 columns]"
      ]
     },
     "execution_count": 37,
     "metadata": {},
     "output_type": "execute_result"
    }
   ],
   "source": [
    "df.head(2)"
   ]
  },
  {
   "cell_type": "code",
   "execution_count": 38,
   "metadata": {},
   "outputs": [
    {
     "data": {
      "text/plain": [
       "0    40 of 61\n",
       "1         NaN\n",
       "2    24 of 53\n",
       "3         NaN\n",
       "4     1 of 24\n",
       "Name: Ranking, dtype: object"
      ]
     },
     "execution_count": 38,
     "metadata": {},
     "output_type": "execute_result"
    }
   ],
   "source": [
    "df['Ranking'].head()"
   ]
  },
  {
   "cell_type": "code",
   "execution_count": 39,
   "metadata": {},
   "outputs": [
    {
     "data": {
      "text/plain": [
       "United States    12851\n",
       "Germany           2549\n",
       "Brazil            1661\n",
       "England            431\n",
       "Scotland           356\n",
       "Canada              68\n",
       "France              44\n",
       "Switzerland         29\n",
       "Wales                2\n",
       "Africa               1\n",
       "Mexico               1\n",
       "South America        1\n",
       "Europe               1\n",
       "Austria              1\n",
       "Name: Country, dtype: int64"
      ]
     },
     "execution_count": 39,
     "metadata": {},
     "output_type": "execute_result"
    }
   ],
   "source": [
    "df.Country.value_counts()"
   ]
  },
  {
   "cell_type": "code",
   "execution_count": 40,
   "metadata": {},
   "outputs": [
    {
     "data": {
      "text/plain": [
       "FL              3132\n",
       "CA              2985\n",
       "AL              1509\n",
       "WA              1295\n",
       "MA              1291\n",
       "MI               936\n",
       "MN               429\n",
       "AR               282\n",
       "RI               248\n",
       "SD               235\n",
       "CO               224\n",
       "ME                74\n",
       "MS                36\n",
       "IA                27\n",
       "OR                25\n",
       "GA                22\n",
       "ND                15\n",
       "ID                13\n",
       "NH                10\n",
       "TN                 9\n",
       "WI                 8\n",
       "NE                 7\n",
       "NV                 7\n",
       "MO                 6\n",
       "OH                 5\n",
       "CT                 4\n",
       "TX                 3\n",
       "OK                 2\n",
       "LA                 1\n",
       "Woburn             1\n",
       "Gainesville        1\n",
       "White Salmon       1\n",
       "Mitchell           1\n",
       "Lutsen             1\n",
       "Birmingham         1\n",
       "Harrison           1\n",
       "Sacramento         1\n",
       "Platte             1\n",
       "Name: State, dtype: int64"
      ]
     },
     "execution_count": 40,
     "metadata": {},
     "output_type": "execute_result"
    }
   ],
   "source": [
    "df[df.Country==\"United States\"][\"State\"].value_counts()"
   ]
  },
  {
   "cell_type": "code",
   "execution_count": 41,
   "metadata": {
    "collapsed": true
   },
   "outputs": [],
   "source": [
    "df_usa = df[df.Country==\"United States\"]"
   ]
  },
  {
   "cell_type": "code",
   "execution_count": 42,
   "metadata": {
    "collapsed": true
   },
   "outputs": [],
   "source": [
    "# Select only those records with valid state codes, STATE code that has lenght of 2\n",
    "df_usa_state = df_usa[df_usa.State.str.len() == 2]"
   ]
  },
  {
   "cell_type": "code",
   "execution_count": 43,
   "metadata": {},
   "outputs": [
    {
     "data": {
      "text/plain": [
       "FL    3132\n",
       "CA    2985\n",
       "AL    1509\n",
       "WA    1295\n",
       "MA    1291\n",
       "MI     936\n",
       "MN     429\n",
       "AR     282\n",
       "RI     248\n",
       "SD     235\n",
       "CO     224\n",
       "ME      74\n",
       "MS      36\n",
       "IA      27\n",
       "OR      25\n",
       "GA      22\n",
       "ND      15\n",
       "ID      13\n",
       "NH      10\n",
       "TN       9\n",
       "WI       8\n",
       "NE       7\n",
       "NV       7\n",
       "MO       6\n",
       "OH       5\n",
       "CT       4\n",
       "TX       3\n",
       "OK       2\n",
       "LA       1\n",
       "Name: State, dtype: int64"
      ]
     },
     "execution_count": 43,
     "metadata": {},
     "output_type": "execute_result"
    }
   ],
   "source": [
    "df_usa_state.State.value_counts()"
   ]
  },
  {
   "cell_type": "code",
   "execution_count": 44,
   "metadata": {},
   "outputs": [
    {
     "data": {
      "text/plain": [
       "FL    3132\n",
       "CA    2985\n",
       "AL    1509\n",
       "WA    1295\n",
       "MA    1291\n",
       "MI     936\n",
       "MN     429\n",
       "AR     282\n",
       "RI     248\n",
       "SD     235\n",
       "Name: State, dtype: int64"
      ]
     },
     "execution_count": 44,
     "metadata": {},
     "output_type": "execute_result"
    }
   ],
   "source": [
    "df_usa_state.State.value_counts()[0:10]"
   ]
  },
  {
   "cell_type": "code",
   "execution_count": 45,
   "metadata": {},
   "outputs": [
    {
     "data": {
      "text/plain": [
       "0   2012-05-28\n",
       "1          NaT\n",
       "2   2008-02-06\n",
       "3          NaT\n",
       "4   2014-03-11\n",
       "5          NaT\n",
       "6   2014-04-20\n",
       "7   2014-06-09\n",
       "8   2014-06-01\n",
       "9          NaT\n",
       "Name: Last Reviewed, dtype: datetime64[ns]"
      ]
     },
     "execution_count": 45,
     "metadata": {},
     "output_type": "execute_result"
    }
   ],
   "source": [
    "pd.to_datetime(df2[\"Last Reviewed\"].head(10))"
   ]
  },
  {
   "cell_type": "code",
   "execution_count": 46,
   "metadata": {},
   "outputs": [
    {
     "data": {
      "text/plain": [
       "0    - 28 May 2012\n",
       "1              NaN\n",
       "2     - 6 Feb 2008\n",
       "3              NaN\n",
       "4    11 March 2014\n",
       "5              NaN\n",
       "6    - 20 Apr 2014\n",
       "7      9 June 2014\n",
       "8     - 1 Jun 2014\n",
       "9              NaN\n",
       "Name: Last Reviewed, dtype: object"
      ]
     },
     "execution_count": 46,
     "metadata": {},
     "output_type": "execute_result"
    }
   ],
   "source": [
    "# Last Reviewed column contains data values in the format dd Mon Year\n",
    "df2[\"Last Reviewed\"].head(10)"
   ]
  },
  {
   "cell_type": "code",
   "execution_count": 47,
   "metadata": {
    "collapsed": true
   },
   "outputs": [],
   "source": [
    "# This function extract the day, month, year part of the date column\n",
    "def get_split_value(value,index):\n",
    "    value = str(value)\n",
    "    value = value.replace(\"- \",\"\")\n",
    "    fields = value.split()\n",
    "    month = \"\"\n",
    "    try:\n",
    "        month = fields[index]\n",
    "    except TypeError:\n",
    "        month = \"\"\n",
    "    except IndexError:\n",
    "        month = \"\"\n",
    "    return month"
   ]
  },
  {
   "cell_type": "code",
   "execution_count": 48,
   "metadata": {},
   "outputs": [
    {
     "name": "stdout",
     "output_type": "stream",
     "text": [
      "[1, 2, 3, 4, 5, 6, 7, 8, 9, 10, 11, 12, 13, 14, 15, 16, 17, 18, 19, 20, 21, 22, 23, 24, 25, 26, 27, 28, 29, 30, 31]\n"
     ]
    }
   ],
   "source": [
    "# Let's check if the date values in Last Reviewed column are having valid values\n",
    "# check Day\n",
    "days = df2[\"Last Reviewed\"].apply(lambda x:get_split_value(x,0)).value_counts().sort_index(ascending=True)\n",
    "print(sorted([ int(x) for x in list(days.index) if x != 'nan']))"
   ]
  },
  {
   "cell_type": "code",
   "execution_count": 49,
   "metadata": {},
   "outputs": [
    {
     "name": "stdout",
     "output_type": "stream",
     "text": [
      "['', 'Apr', 'April', 'Aug', 'August', 'Dec', 'December', 'Feb', 'February', 'Jan', 'January', 'Jul', 'July', 'Jun', 'June', 'Mar', 'March', 'May', 'Nov', 'November', 'Oct', 'October', 'Sep', 'September']\n"
     ]
    }
   ],
   "source": [
    "# check Month\n",
    "months = df2[\"Last Reviewed\"].apply(lambda x:get_split_value(x,1)).value_counts().sort_index(ascending=True)\n",
    "print(sorted(list(months.index)))"
   ]
  },
  {
   "cell_type": "code",
   "execution_count": 50,
   "metadata": {},
   "outputs": [
    {
     "name": "stdout",
     "output_type": "stream",
     "text": [
      "['', '2004', '2005', '2006', '2007', '2008', '2009', '2010', '2011', '2012', '2013', '2014']\n"
     ]
    }
   ],
   "source": [
    "# check Year\n",
    "years = df2[\"Last Reviewed\"].apply(lambda x:get_split_value(x,2)).value_counts().sort_index(ascending=True)\n",
    "print(list(years.index))"
   ]
  },
  {
   "cell_type": "code",
   "execution_count": 54,
   "metadata": {},
   "outputs": [
    {
     "data": {
      "text/plain": [
       "        7502\n",
       "2014    6738\n",
       "2013    2712\n",
       "2012     666\n",
       "2011     175\n",
       "2008      70\n",
       "2010      64\n",
       "2009      39\n",
       "2007      21\n",
       "2005       4\n",
       "2004       3\n",
       "2006       2\n",
       "Name: Last Reviewed, dtype: int64"
      ]
     },
     "execution_count": 54,
     "metadata": {},
     "output_type": "execute_result"
    }
   ],
   "source": [
    "df2[\"Last Reviewed\"].apply(lambda x:get_split_value(x,2)).value_counts()##MAX REVIEWS IN ALL YEARS"
   ]
  },
  {
   "cell_type": "code",
   "execution_count": 55,
   "metadata": {},
   "outputs": [
    {
     "data": {
      "text/plain": [
       "        5139\n",
       "2014    4890\n",
       "2013    2126\n",
       "2012     462\n",
       "2011      78\n",
       "2008      64\n",
       "2009      34\n",
       "2010      29\n",
       "2007      20\n",
       "2005       4\n",
       "2004       3\n",
       "2006       2\n",
       "Name: Last Reviewed, dtype: int64"
      ]
     },
     "execution_count": 55,
     "metadata": {},
     "output_type": "execute_result"
    }
   ],
   "source": [
    "df_usa[\"Last Reviewed\"].apply(lambda x:get_split_value(x,2)).value_counts()"
   ]
  },
  {
   "cell_type": "code",
   "execution_count": 56,
   "metadata": {},
   "outputs": [],
   "source": [
    "df2['last_reviewed_dt'] = pd.to_datetime(df2[\"Last Reviewed\"])"
   ]
  },
  {
   "cell_type": "code",
   "execution_count": 57,
   "metadata": {},
   "outputs": [
    {
     "data": {
      "text/plain": [
       "0   2012-05-28\n",
       "1          NaT\n",
       "2   2008-02-06\n",
       "3          NaT\n",
       "4   2014-03-11\n",
       "Name: last_reviewed_dt, dtype: datetime64[ns]"
      ]
     },
     "execution_count": 57,
     "metadata": {},
     "output_type": "execute_result"
    }
   ],
   "source": [
    "df2.last_reviewed_dt.head()"
   ]
  },
  {
   "cell_type": "code",
   "execution_count": 58,
   "metadata": {},
   "outputs": [
    {
     "data": {
      "text/plain": [
       "count                   10494\n",
       "unique                   1157\n",
       "top       2014-05-28 00:00:00\n",
       "freq                      290\n",
       "first     2004-07-05 00:00:00\n",
       "last      2014-07-23 00:00:00\n",
       "Name: last_reviewed_dt, dtype: object"
      ]
     },
     "execution_count": 58,
     "metadata": {},
     "output_type": "execute_result"
    }
   ],
   "source": [
    "df2.last_reviewed_dt.describe()"
   ]
  },
  {
   "cell_type": "code",
   "execution_count": 62,
   "metadata": {},
   "outputs": [
    {
     "data": {
      "text/plain": [
       "2014.0    4890\n",
       "2013.0    2126\n",
       "2012.0     462\n",
       "2011.0      78\n",
       "2008.0      64\n",
       "2009.0      34\n",
       "2010.0      29\n",
       "2007.0      20\n",
       "2005.0       4\n",
       "2004.0       3\n",
       "2006.0       2\n",
       "Name: last_reviewed_dt, dtype: int64"
      ]
     },
     "execution_count": 62,
     "metadata": {},
     "output_type": "execute_result"
    }
   ],
   "source": [
    "df2[df2.Country==\"United States\"].last_reviewed_dt.apply(lambda x:x.year).value_counts()#MAX REVIEWS IN USA"
   ]
  },
  {
   "cell_type": "code",
   "execution_count": null,
   "metadata": {
    "collapsed": true
   },
   "outputs": [],
   "source": []
  }
 ],
 "metadata": {
  "kernelspec": {
   "display_name": "Python 3",
   "language": "python",
   "name": "python3"
  },
  "language_info": {
   "codemirror_mode": {
    "name": "ipython",
    "version": 3
   },
   "file_extension": ".py",
   "mimetype": "text/x-python",
   "name": "python",
   "nbconvert_exporter": "python",
   "pygments_lexer": "ipython3",
   "version": "3.6.1"
  }
 },
 "nbformat": 4,
 "nbformat_minor": 2
}
